{
 "cells": [
  {
   "cell_type": "code",
   "execution_count": 1,
   "metadata": {},
   "outputs": [],
   "source": [
    "import numpy as np\n",
    "from pylab import plt\n",
    "import utils\n",
    "import utils.plt\n",
    "from utils.__Timer__ import Timer\n",
    "import pylab\n",
    "pylab.ion()"
   ]
  },
  {
   "cell_type": "code",
   "execution_count": 2,
   "metadata": {},
   "outputs": [],
   "source": [
    "def f(y,x,nRows,nCols):\n",
    "    x0 = nCols/2\n",
    "    y0 = nRows/2\n",
    "    return (x-x0)**2+(y-y0)**2"
   ]
  },
  {
   "cell_type": "code",
   "execution_count": 3,
   "metadata": {},
   "outputs": [],
   "source": [
    "# define image size:\n",
    "nRows = 3000\n",
    "nCols = 4000"
   ]
  },
  {
   "cell_type": "markdown",
   "metadata": {
    "collapsed": true
   },
   "source": [
    "### Suppose (x,y) stands for pixel locations, and we want to evaluate f on all pixels"
   ]
  },
  {
   "cell_type": "code",
   "execution_count": 4,
   "metadata": {},
   "outputs": [
    {
     "name": "stdout",
     "output_type": "stream",
     "text": [
      "Timer: secs = 16.4950106\n"
     ]
    }
   ],
   "source": [
    "# Here is the bad way to do it in Python\n",
    "z1 = np.zeros((nRows,nCols))\n",
    "timer1 = Timer()\n",
    "timer1.tic()\n",
    "for row in range(nRows):\n",
    "    for col in range(nCols):\n",
    "        z1[row,col]=f(y=row,x=col,nRows=nRows,nCols=nCols)\n",
    "timer1.toc()\n",
    "print(timer1)"
   ]
  },
  {
   "cell_type": "code",
   "execution_count": 5,
   "metadata": {},
   "outputs": [
    {
     "name": "stdout",
     "output_type": "stream",
     "text": [
      "xx:\n",
      "[[   0    1    2 ... 3997 3998 3999]\n",
      " [   0    1    2 ... 3997 3998 3999]\n",
      " [   0    1    2 ... 3997 3998 3999]\n",
      " ...\n",
      " [   0    1    2 ... 3997 3998 3999]\n",
      " [   0    1    2 ... 3997 3998 3999]\n",
      " [   0    1    2 ... 3997 3998 3999]]\n",
      "yy:\n",
      "[[   0    0    0 ...    0    0    0]\n",
      " [   1    1    1 ...    1    1    1]\n",
      " [   2    2    2 ...    2    2    2]\n",
      " ...\n",
      " [2997 2997 2997 ... 2997 2997 2997]\n",
      " [2998 2998 2998 ... 2998 2998 2998]\n",
      " [2999 2999 2999 ... 2999 2999 2999]]\n"
     ]
    }
   ],
   "source": [
    "yy,xx=np.mgrid[0:nRows,0:nCols]\n",
    "print('xx:')\n",
    "print(xx)\n",
    "print('yy:')\n",
    "print(yy)"
   ]
  },
  {
   "cell_type": "code",
   "execution_count": 6,
   "metadata": {},
   "outputs": [
    {
     "name": "stdout",
     "output_type": "stream",
     "text": [
      "Timer: secs = 0.34261530000000207\n",
      "speedup:  48.14440744473438\n",
      "True\n"
     ]
    }
   ],
   "source": [
    "z2 = np.zeros((nRows,nCols))\n",
    "timer2=Timer()\n",
    "timer2.tic()\n",
    "z2[:]=f(x=xx,y=yy,nRows=nRows,nCols=nCols)\n",
    "# or even just:\n",
    "#z2=f(x=xx,y=yy,nRows=nRows,nCols=nCols)\n",
    "timer2.toc()\n",
    "print(timer2)\n",
    "print('speedup: ',timer1.secs/timer2.secs)\n",
    "print(np.allclose(z1,z2))"
   ]
  },
  {
   "cell_type": "code",
   "execution_count": 7,
   "metadata": {},
   "outputs": [
    {
     "name": "stdout",
     "output_type": "stream",
     "text": [
      "speedup:  48.161205480475715\n",
      "True\n"
     ]
    }
   ],
   "source": [
    "timer3 = Timer()\n",
    "timer3.tic()\n",
    "z3 = np.fromfunction(f,shape=[nRows,nCols],nRows=nRows,nCols=nCols)\n",
    "timer3.toc()\n",
    "print('speedup: ',timer1.secs/timer3.secs)\n",
    "print(np.allclose(z1,z3))"
   ]
  },
  {
   "cell_type": "code",
   "execution_count": 8,
   "metadata": {},
   "outputs": [
    {
     "name": "stdout",
     "output_type": "stream",
     "text": [
      "(12000000, 2)\n",
      "pts:\n",
      "[[   0    0]\n",
      " [   1    0]\n",
      " [   2    0]\n",
      " ...\n",
      " [3997 2999]\n",
      " [3998 2999]\n",
      " [3999 2999]]\n"
     ]
    }
   ],
   "source": [
    "pts = np.vstack([xx.ravel(),yy.ravel()]).T\n",
    "print(pts.shape)\n",
    "print('pts:')\n",
    "print(pts)"
   ]
  },
  {
   "cell_type": "code",
   "execution_count": 9,
   "metadata": {},
   "outputs": [],
   "source": [
    "theta = np.deg2rad(30) # degrees to radians \n",
    "c = np.cos(theta)\n",
    "s = np.sin(theta)\n",
    "yy_new = c*xx-s*yy\n",
    "xx_new = s*xx+c*yy\n",
    "\n",
    "sl = slice(None,None,100)\n",
    "# so xx[sl,sl] will be the same as xx[::100,::100] or the even more verbose xx[0:xx.shape[0]:100,0:xx.shape[1]:100]"
   ]
  },
  {
   "cell_type": "code",
   "execution_count": null,
   "metadata": {},
   "outputs": [],
   "source": [
    "plt.plot(xx[sl,sl].ravel(),yy[sl,sl].ravel(),'r.')\n",
    "plt.plot(z2, 'g.')\n",
    "plt.plot(xx_new[sl,sl].ravel(),yy_new[sl,sl].ravel(),'b.')\n",
    "plt.axis('equal')\n",
    "plt.show()"
   ]
  },
  {
   "cell_type": "code",
   "execution_count": null,
   "metadata": {},
   "outputs": [],
   "source": [
    "plt.plot(xx[sl,sl].ravel(),yy[sl,sl].ravel(),'r.')\n",
    "plt.plot(xx_new[sl,sl].ravel(),yy_new[sl,sl].ravel(),'b.')\n",
    "plt.axis('equal')\n",
    "utils.plt.axis_ij()"
   ]
  },
  {
   "cell_type": "code",
   "execution_count": null,
   "metadata": {},
   "outputs": [],
   "source": [
    "r = np.sqrt(z2)\n",
    "plt.figure()\n",
    "plt.subplot(121)\n",
    "plt.imshow(z2)\n",
    "plt.colorbar()\n",
    "plt.set_cmap('jet')\n",
    "plt.title('z')\n",
    "plt.xticks([0,nCols/2,nCols])\n",
    "plt.subplot(122)\n",
    "plt.imshow(r)\n",
    "plt.colorbar()\n",
    "plt.set_cmap('jet')\n",
    "plt.title('r')\n",
    "plt.xticks([0,nCols/2,nCols])\n",
    "plt.subplots_adjust(wspace=0.6)"
   ]
  },
  {
   "cell_type": "code",
   "execution_count": null,
   "metadata": {},
   "outputs": [],
   "source": [
    "q = (r-r.min())/r.max()\n",
    "labels = np.round(q*4).astype(np.int)\n",
    "print(np.unique(labels))"
   ]
  },
  {
   "cell_type": "code",
   "execution_count": null,
   "metadata": {},
   "outputs": [],
   "source": [
    "plt.imshow(labels)\n",
    "plt.colorbar()\n",
    "plt.set_cmap('gray')"
   ]
  },
  {
   "cell_type": "code",
   "execution_count": null,
   "metadata": {},
   "outputs": [],
   "source": [
    "palette = np.array( [ [0,0,0],              # black\n",
    "                    [255,0,0],              # red\n",
    "                    [0,255,0],              # green\n",
    "                    [0,0,255],              # blue\n",
    "                    [255,255,255]           # white\n",
    "                    ] )\n",
    "print(palette.shape)\n",
    "print(labels.shape)"
   ]
  },
  {
   "cell_type": "code",
   "execution_count": null,
   "metadata": {},
   "outputs": [],
   "source": [
    "img = palette[labels]\n",
    "print(img.shape)"
   ]
  },
  {
   "cell_type": "code",
   "execution_count": null,
   "metadata": {},
   "outputs": [],
   "source": [
    "plt.imshow(img.astype(np.uint8))\n"
   ]
  },
  {
   "cell_type": "code",
   "execution_count": null,
   "metadata": {},
   "outputs": [],
   "source": [
    "(np.arange(0,nCols,500))"
   ]
  }
 ],
 "metadata": {
  "anaconda-cloud": {},
  "kernelspec": {
   "display_name": "Python 3",
   "language": "python",
   "name": "python3"
  },
  "language_info": {
   "codemirror_mode": {
    "name": "ipython",
    "version": 3
   },
   "file_extension": ".py",
   "mimetype": "text/x-python",
   "name": "python",
   "nbconvert_exporter": "python",
   "pygments_lexer": "ipython3",
   "version": "3.7.3"
  }
 },
 "nbformat": 4,
 "nbformat_minor": 1
}
